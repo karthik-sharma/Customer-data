{
 "cells": [
  {
   "cell_type": "code",
   "execution_count": 1,
   "id": "e3b8a8f2",
   "metadata": {
    "_cell_guid": "b1076dfc-b9ad-4769-8c92-a6c4dae69d19",
    "_uuid": "8f2839f25d086af736a60e9eeb907d3b93b6e0e5",
    "execution": {
     "iopub.execute_input": "2023-05-08T10:02:07.663644Z",
     "iopub.status.busy": "2023-05-08T10:02:07.663264Z",
     "iopub.status.idle": "2023-05-08T10:02:07.678923Z",
     "shell.execute_reply": "2023-05-08T10:02:07.678120Z"
    },
    "papermill": {
     "duration": 0.023386,
     "end_time": "2023-05-08T10:02:07.681046",
     "exception": false,
     "start_time": "2023-05-08T10:02:07.657660",
     "status": "completed"
    },
    "tags": []
   },
   "outputs": [
    {
     "name": "stdout",
     "output_type": "stream",
     "text": [
      "/kaggle/input/customer-data/Mall_Customers.csv\n"
     ]
    }
   ],
   "source": [
    "# This Python 3 environment comes with many helpful analytics libraries installed\n",
    "# It is defined by the kaggle/python Docker image: https://github.com/kaggle/docker-python\n",
    "# For example, here's several helpful packages to load\n",
    "\n",
    "import numpy as np # linear algebra\n",
    "import pandas as pd # data processing, CSV file I/O (e.g. pd.read_csv)\n",
    "\n",
    "# Input data files are available in the read-only \"../input/\" directory\n",
    "# For example, running this (by clicking run or pressing Shift+Enter) will list all files under the input directory\n",
    "\n",
    "import os\n",
    "for dirname, _, filenames in os.walk('/kaggle/input'):\n",
    "    for filename in filenames:\n",
    "        print(os.path.join(dirname, filename))\n",
    "\n",
    "# You can write up to 20GB to the current directory (/kaggle/working/) that gets preserved as output when you create a version using \"Save & Run All\" \n",
    "# You can also write temporary files to /kaggle/temp/, but they won't be saved outside of the current session"
   ]
  },
  {
   "cell_type": "code",
   "execution_count": 2,
   "id": "79bc7ad8",
   "metadata": {
    "execution": {
     "iopub.execute_input": "2023-05-08T10:02:07.690116Z",
     "iopub.status.busy": "2023-05-08T10:02:07.689766Z",
     "iopub.status.idle": "2023-05-08T10:02:07.732177Z",
     "shell.execute_reply": "2023-05-08T10:02:07.731204Z"
    },
    "papermill": {
     "duration": 0.04929,
     "end_time": "2023-05-08T10:02:07.734398",
     "exception": false,
     "start_time": "2023-05-08T10:02:07.685108",
     "status": "completed"
    },
    "tags": []
   },
   "outputs": [
    {
     "data": {
      "text/html": [
       "<div>\n",
       "<style scoped>\n",
       "    .dataframe tbody tr th:only-of-type {\n",
       "        vertical-align: middle;\n",
       "    }\n",
       "\n",
       "    .dataframe tbody tr th {\n",
       "        vertical-align: top;\n",
       "    }\n",
       "\n",
       "    .dataframe thead th {\n",
       "        text-align: right;\n",
       "    }\n",
       "</style>\n",
       "<table border=\"1\" class=\"dataframe\">\n",
       "  <thead>\n",
       "    <tr style=\"text-align: right;\">\n",
       "      <th></th>\n",
       "      <th>CustomerID</th>\n",
       "      <th>Genre</th>\n",
       "      <th>Age</th>\n",
       "      <th>Annual_Income_(k$)</th>\n",
       "      <th>Spending_Score</th>\n",
       "    </tr>\n",
       "  </thead>\n",
       "  <tbody>\n",
       "    <tr>\n",
       "      <th>0</th>\n",
       "      <td>1</td>\n",
       "      <td>Male</td>\n",
       "      <td>19</td>\n",
       "      <td>15</td>\n",
       "      <td>39</td>\n",
       "    </tr>\n",
       "    <tr>\n",
       "      <th>1</th>\n",
       "      <td>2</td>\n",
       "      <td>Male</td>\n",
       "      <td>21</td>\n",
       "      <td>15</td>\n",
       "      <td>81</td>\n",
       "    </tr>\n",
       "    <tr>\n",
       "      <th>2</th>\n",
       "      <td>3</td>\n",
       "      <td>Female</td>\n",
       "      <td>20</td>\n",
       "      <td>16</td>\n",
       "      <td>6</td>\n",
       "    </tr>\n",
       "    <tr>\n",
       "      <th>3</th>\n",
       "      <td>4</td>\n",
       "      <td>Female</td>\n",
       "      <td>23</td>\n",
       "      <td>16</td>\n",
       "      <td>77</td>\n",
       "    </tr>\n",
       "    <tr>\n",
       "      <th>4</th>\n",
       "      <td>5</td>\n",
       "      <td>Female</td>\n",
       "      <td>31</td>\n",
       "      <td>17</td>\n",
       "      <td>40</td>\n",
       "    </tr>\n",
       "  </tbody>\n",
       "</table>\n",
       "</div>"
      ],
      "text/plain": [
       "   CustomerID   Genre  Age  Annual_Income_(k$)  Spending_Score\n",
       "0           1    Male   19                  15              39\n",
       "1           2    Male   21                  15              81\n",
       "2           3  Female   20                  16               6\n",
       "3           4  Female   23                  16              77\n",
       "4           5  Female   31                  17              40"
      ]
     },
     "execution_count": 2,
     "metadata": {},
     "output_type": "execute_result"
    }
   ],
   "source": [
    "df = pd.read_csv(\"/kaggle/input/customer-data/Mall_Customers.csv\")\n",
    "df.head()"
   ]
  },
  {
   "cell_type": "code",
   "execution_count": 3,
   "id": "0be200c8",
   "metadata": {
    "execution": {
     "iopub.execute_input": "2023-05-08T10:02:07.743928Z",
     "iopub.status.busy": "2023-05-08T10:02:07.743249Z",
     "iopub.status.idle": "2023-05-08T10:02:07.771396Z",
     "shell.execute_reply": "2023-05-08T10:02:07.770662Z"
    },
    "papermill": {
     "duration": 0.035423,
     "end_time": "2023-05-08T10:02:07.773787",
     "exception": false,
     "start_time": "2023-05-08T10:02:07.738364",
     "status": "completed"
    },
    "tags": []
   },
   "outputs": [
    {
     "name": "stdout",
     "output_type": "stream",
     "text": [
      "<class 'pandas.core.frame.DataFrame'>\n",
      "RangeIndex: 200 entries, 0 to 199\n",
      "Data columns (total 5 columns):\n",
      " #   Column              Non-Null Count  Dtype \n",
      "---  ------              --------------  ----- \n",
      " 0   CustomerID          200 non-null    int64 \n",
      " 1   Genre               200 non-null    object\n",
      " 2   Age                 200 non-null    int64 \n",
      " 3   Annual_Income_(k$)  200 non-null    int64 \n",
      " 4   Spending_Score      200 non-null    int64 \n",
      "dtypes: int64(4), object(1)\n",
      "memory usage: 7.9+ KB\n"
     ]
    }
   ],
   "source": [
    "df.info()"
   ]
  },
  {
   "cell_type": "code",
   "execution_count": 4,
   "id": "02adb089",
   "metadata": {
    "execution": {
     "iopub.execute_input": "2023-05-08T10:02:07.783803Z",
     "iopub.status.busy": "2023-05-08T10:02:07.782868Z",
     "iopub.status.idle": "2023-05-08T10:02:07.789698Z",
     "shell.execute_reply": "2023-05-08T10:02:07.788739Z"
    },
    "papermill": {
     "duration": 0.014149,
     "end_time": "2023-05-08T10:02:07.792034",
     "exception": false,
     "start_time": "2023-05-08T10:02:07.777885",
     "status": "completed"
    },
    "tags": []
   },
   "outputs": [],
   "source": [
    "df.set_index('CustomerID', inplace=True)"
   ]
  },
  {
   "cell_type": "code",
   "execution_count": 5,
   "id": "4eca9caf",
   "metadata": {
    "execution": {
     "iopub.execute_input": "2023-05-08T10:02:07.801389Z",
     "iopub.status.busy": "2023-05-08T10:02:07.801059Z",
     "iopub.status.idle": "2023-05-08T10:02:07.822189Z",
     "shell.execute_reply": "2023-05-08T10:02:07.821168Z"
    },
    "papermill": {
     "duration": 0.02839,
     "end_time": "2023-05-08T10:02:07.824392",
     "exception": false,
     "start_time": "2023-05-08T10:02:07.796002",
     "status": "completed"
    },
    "tags": []
   },
   "outputs": [
    {
     "data": {
      "text/html": [
       "<div>\n",
       "<style scoped>\n",
       "    .dataframe tbody tr th:only-of-type {\n",
       "        vertical-align: middle;\n",
       "    }\n",
       "\n",
       "    .dataframe tbody tr th {\n",
       "        vertical-align: top;\n",
       "    }\n",
       "\n",
       "    .dataframe thead th {\n",
       "        text-align: right;\n",
       "    }\n",
       "</style>\n",
       "<table border=\"1\" class=\"dataframe\">\n",
       "  <thead>\n",
       "    <tr style=\"text-align: right;\">\n",
       "      <th></th>\n",
       "      <th>Age</th>\n",
       "      <th>Annual_Income_(k$)</th>\n",
       "      <th>Spending_Score</th>\n",
       "    </tr>\n",
       "  </thead>\n",
       "  <tbody>\n",
       "    <tr>\n",
       "      <th>count</th>\n",
       "      <td>200.000000</td>\n",
       "      <td>200.000000</td>\n",
       "      <td>200.000000</td>\n",
       "    </tr>\n",
       "    <tr>\n",
       "      <th>mean</th>\n",
       "      <td>38.850000</td>\n",
       "      <td>60.560000</td>\n",
       "      <td>50.200000</td>\n",
       "    </tr>\n",
       "    <tr>\n",
       "      <th>std</th>\n",
       "      <td>13.969007</td>\n",
       "      <td>26.264721</td>\n",
       "      <td>25.823522</td>\n",
       "    </tr>\n",
       "    <tr>\n",
       "      <th>min</th>\n",
       "      <td>18.000000</td>\n",
       "      <td>15.000000</td>\n",
       "      <td>1.000000</td>\n",
       "    </tr>\n",
       "    <tr>\n",
       "      <th>25%</th>\n",
       "      <td>28.750000</td>\n",
       "      <td>41.500000</td>\n",
       "      <td>34.750000</td>\n",
       "    </tr>\n",
       "    <tr>\n",
       "      <th>50%</th>\n",
       "      <td>36.000000</td>\n",
       "      <td>61.500000</td>\n",
       "      <td>50.000000</td>\n",
       "    </tr>\n",
       "    <tr>\n",
       "      <th>75%</th>\n",
       "      <td>49.000000</td>\n",
       "      <td>78.000000</td>\n",
       "      <td>73.000000</td>\n",
       "    </tr>\n",
       "    <tr>\n",
       "      <th>max</th>\n",
       "      <td>70.000000</td>\n",
       "      <td>137.000000</td>\n",
       "      <td>99.000000</td>\n",
       "    </tr>\n",
       "  </tbody>\n",
       "</table>\n",
       "</div>"
      ],
      "text/plain": [
       "              Age  Annual_Income_(k$)  Spending_Score\n",
       "count  200.000000          200.000000      200.000000\n",
       "mean    38.850000           60.560000       50.200000\n",
       "std     13.969007           26.264721       25.823522\n",
       "min     18.000000           15.000000        1.000000\n",
       "25%     28.750000           41.500000       34.750000\n",
       "50%     36.000000           61.500000       50.000000\n",
       "75%     49.000000           78.000000       73.000000\n",
       "max     70.000000          137.000000       99.000000"
      ]
     },
     "execution_count": 5,
     "metadata": {},
     "output_type": "execute_result"
    }
   ],
   "source": [
    "df.describe()"
   ]
  },
  {
   "cell_type": "code",
   "execution_count": 6,
   "id": "84aebd12",
   "metadata": {
    "execution": {
     "iopub.execute_input": "2023-05-08T10:02:07.834452Z",
     "iopub.status.busy": "2023-05-08T10:02:07.834133Z",
     "iopub.status.idle": "2023-05-08T10:02:07.841841Z",
     "shell.execute_reply": "2023-05-08T10:02:07.840933Z"
    },
    "papermill": {
     "duration": 0.015022,
     "end_time": "2023-05-08T10:02:07.843793",
     "exception": false,
     "start_time": "2023-05-08T10:02:07.828771",
     "status": "completed"
    },
    "tags": []
   },
   "outputs": [
    {
     "data": {
      "text/plain": [
       "Genre                 0\n",
       "Age                   0\n",
       "Annual_Income_(k$)    0\n",
       "Spending_Score        0\n",
       "dtype: int64"
      ]
     },
     "execution_count": 6,
     "metadata": {},
     "output_type": "execute_result"
    }
   ],
   "source": [
    "df.isnull().sum()"
   ]
  },
  {
   "cell_type": "code",
   "execution_count": 7,
   "id": "66d2c3dc",
   "metadata": {
    "execution": {
     "iopub.execute_input": "2023-05-08T10:02:07.853940Z",
     "iopub.status.busy": "2023-05-08T10:02:07.853579Z",
     "iopub.status.idle": "2023-05-08T10:02:07.860437Z",
     "shell.execute_reply": "2023-05-08T10:02:07.859478Z"
    },
    "papermill": {
     "duration": 0.014547,
     "end_time": "2023-05-08T10:02:07.862545",
     "exception": false,
     "start_time": "2023-05-08T10:02:07.847998",
     "status": "completed"
    },
    "tags": []
   },
   "outputs": [
    {
     "data": {
      "text/plain": [
       "array(['Male', 'Female'], dtype=object)"
      ]
     },
     "execution_count": 7,
     "metadata": {},
     "output_type": "execute_result"
    }
   ],
   "source": [
    "df['Genre'].unique()"
   ]
  },
  {
   "cell_type": "code",
   "execution_count": 8,
   "id": "3d51683e",
   "metadata": {
    "execution": {
     "iopub.execute_input": "2023-05-08T10:02:07.873005Z",
     "iopub.status.busy": "2023-05-08T10:02:07.872628Z",
     "iopub.status.idle": "2023-05-08T10:02:07.878457Z",
     "shell.execute_reply": "2023-05-08T10:02:07.877636Z"
    },
    "papermill": {
     "duration": 0.013467,
     "end_time": "2023-05-08T10:02:07.880487",
     "exception": false,
     "start_time": "2023-05-08T10:02:07.867020",
     "status": "completed"
    },
    "tags": []
   },
   "outputs": [],
   "source": [
    "df['Genre'] = df['Genre'].replace('Male', 1)\n",
    "df['Genre'] = df['Genre'].replace('Female', 0)"
   ]
  },
  {
   "cell_type": "code",
   "execution_count": 9,
   "id": "a6390cae",
   "metadata": {
    "execution": {
     "iopub.execute_input": "2023-05-08T10:02:07.890334Z",
     "iopub.status.busy": "2023-05-08T10:02:07.890022Z",
     "iopub.status.idle": "2023-05-08T10:02:07.899334Z",
     "shell.execute_reply": "2023-05-08T10:02:07.898350Z"
    },
    "papermill": {
     "duration": 0.016535,
     "end_time": "2023-05-08T10:02:07.901318",
     "exception": false,
     "start_time": "2023-05-08T10:02:07.884783",
     "status": "completed"
    },
    "tags": []
   },
   "outputs": [
    {
     "data": {
      "text/html": [
       "<div>\n",
       "<style scoped>\n",
       "    .dataframe tbody tr th:only-of-type {\n",
       "        vertical-align: middle;\n",
       "    }\n",
       "\n",
       "    .dataframe tbody tr th {\n",
       "        vertical-align: top;\n",
       "    }\n",
       "\n",
       "    .dataframe thead th {\n",
       "        text-align: right;\n",
       "    }\n",
       "</style>\n",
       "<table border=\"1\" class=\"dataframe\">\n",
       "  <thead>\n",
       "    <tr style=\"text-align: right;\">\n",
       "      <th></th>\n",
       "      <th>Genre</th>\n",
       "      <th>Age</th>\n",
       "      <th>Annual_Income_(k$)</th>\n",
       "      <th>Spending_Score</th>\n",
       "    </tr>\n",
       "    <tr>\n",
       "      <th>CustomerID</th>\n",
       "      <th></th>\n",
       "      <th></th>\n",
       "      <th></th>\n",
       "      <th></th>\n",
       "    </tr>\n",
       "  </thead>\n",
       "  <tbody>\n",
       "    <tr>\n",
       "      <th>1</th>\n",
       "      <td>1</td>\n",
       "      <td>19</td>\n",
       "      <td>15</td>\n",
       "      <td>39</td>\n",
       "    </tr>\n",
       "    <tr>\n",
       "      <th>2</th>\n",
       "      <td>1</td>\n",
       "      <td>21</td>\n",
       "      <td>15</td>\n",
       "      <td>81</td>\n",
       "    </tr>\n",
       "    <tr>\n",
       "      <th>3</th>\n",
       "      <td>0</td>\n",
       "      <td>20</td>\n",
       "      <td>16</td>\n",
       "      <td>6</td>\n",
       "    </tr>\n",
       "    <tr>\n",
       "      <th>4</th>\n",
       "      <td>0</td>\n",
       "      <td>23</td>\n",
       "      <td>16</td>\n",
       "      <td>77</td>\n",
       "    </tr>\n",
       "    <tr>\n",
       "      <th>5</th>\n",
       "      <td>0</td>\n",
       "      <td>31</td>\n",
       "      <td>17</td>\n",
       "      <td>40</td>\n",
       "    </tr>\n",
       "  </tbody>\n",
       "</table>\n",
       "</div>"
      ],
      "text/plain": [
       "            Genre  Age  Annual_Income_(k$)  Spending_Score\n",
       "CustomerID                                                \n",
       "1               1   19                  15              39\n",
       "2               1   21                  15              81\n",
       "3               0   20                  16               6\n",
       "4               0   23                  16              77\n",
       "5               0   31                  17              40"
      ]
     },
     "execution_count": 9,
     "metadata": {},
     "output_type": "execute_result"
    }
   ],
   "source": [
    "df.head()"
   ]
  },
  {
   "cell_type": "code",
   "execution_count": 10,
   "id": "b52fa1e6",
   "metadata": {
    "execution": {
     "iopub.execute_input": "2023-05-08T10:02:07.911778Z",
     "iopub.status.busy": "2023-05-08T10:02:07.911393Z",
     "iopub.status.idle": "2023-05-08T10:02:07.918548Z",
     "shell.execute_reply": "2023-05-08T10:02:07.917644Z"
    },
    "papermill": {
     "duration": 0.014513,
     "end_time": "2023-05-08T10:02:07.920333",
     "exception": false,
     "start_time": "2023-05-08T10:02:07.905820",
     "status": "completed"
    },
    "tags": []
   },
   "outputs": [
    {
     "data": {
      "text/plain": [
       "Genre                 int64\n",
       "Age                   int64\n",
       "Annual_Income_(k$)    int64\n",
       "Spending_Score        int64\n",
       "dtype: object"
      ]
     },
     "execution_count": 10,
     "metadata": {},
     "output_type": "execute_result"
    }
   ],
   "source": [
    "df.dtypes"
   ]
  },
  {
   "cell_type": "code",
   "execution_count": 11,
   "id": "86a28de3",
   "metadata": {
    "execution": {
     "iopub.execute_input": "2023-05-08T10:02:07.930759Z",
     "iopub.status.busy": "2023-05-08T10:02:07.930433Z",
     "iopub.status.idle": "2023-05-08T10:02:09.410363Z",
     "shell.execute_reply": "2023-05-08T10:02:09.409220Z"
    },
    "papermill": {
     "duration": 1.488326,
     "end_time": "2023-05-08T10:02:09.413217",
     "exception": false,
     "start_time": "2023-05-08T10:02:07.924891",
     "status": "completed"
    },
    "tags": []
   },
   "outputs": [
    {
     "name": "stderr",
     "output_type": "stream",
     "text": [
      "/opt/conda/lib/python3.10/site-packages/scipy/__init__.py:146: UserWarning: A NumPy version >=1.16.5 and <1.23.0 is required for this version of SciPy (detected version 1.23.5\n",
      "  warnings.warn(f\"A NumPy version >={np_minversion} and <{np_maxversion}\"\n"
     ]
    }
   ],
   "source": [
    "from sklearn.tree import DecisionTreeClassifier\n",
    "from sklearn.model_selection import train_test_split\n",
    "from sklearn.metrics import accuracy_score"
   ]
  },
  {
   "cell_type": "code",
   "execution_count": 12,
   "id": "9f7112a4",
   "metadata": {
    "execution": {
     "iopub.execute_input": "2023-05-08T10:02:09.425449Z",
     "iopub.status.busy": "2023-05-08T10:02:09.424458Z",
     "iopub.status.idle": "2023-05-08T10:02:09.431468Z",
     "shell.execute_reply": "2023-05-08T10:02:09.430568Z"
    },
    "papermill": {
     "duration": 0.015497,
     "end_time": "2023-05-08T10:02:09.433540",
     "exception": false,
     "start_time": "2023-05-08T10:02:09.418043",
     "status": "completed"
    },
    "tags": []
   },
   "outputs": [],
   "source": [
    "x = df.drop(columns = 'Spending_Score')\n",
    "y = df['Spending_Score']"
   ]
  },
  {
   "cell_type": "code",
   "execution_count": 13,
   "id": "4a41fbf8",
   "metadata": {
    "execution": {
     "iopub.execute_input": "2023-05-08T10:02:09.444486Z",
     "iopub.status.busy": "2023-05-08T10:02:09.443948Z",
     "iopub.status.idle": "2023-05-08T10:02:09.460452Z",
     "shell.execute_reply": "2023-05-08T10:02:09.459397Z"
    },
    "papermill": {
     "duration": 0.024095,
     "end_time": "2023-05-08T10:02:09.462391",
     "exception": false,
     "start_time": "2023-05-08T10:02:09.438296",
     "status": "completed"
    },
    "tags": []
   },
   "outputs": [
    {
     "data": {
      "text/plain": [
       "0.0"
      ]
     },
     "execution_count": 13,
     "metadata": {},
     "output_type": "execute_result"
    }
   ],
   "source": [
    "model = DecisionTreeClassifier()\n",
    "# model.fit(x,y)\n",
    "# predictions = model.predict([[1,20,16], [0, 55, 20]])\n",
    "# predictions\n",
    "x_train,x_test,y_train,y_test = train_test_split(x, y, test_size = 0.2)\n",
    "model.fit(x_train,y_train)\n",
    "predictions = model.predict(x_test)\n",
    "score = accuracy_score(y_test,predictions)\n",
    "score"
   ]
  }
 ],
 "metadata": {
  "kernelspec": {
   "display_name": "Python 3",
   "language": "python",
   "name": "python3"
  },
  "language_info": {
   "codemirror_mode": {
    "name": "ipython",
    "version": 3
   },
   "file_extension": ".py",
   "mimetype": "text/x-python",
   "name": "python",
   "nbconvert_exporter": "python",
   "pygments_lexer": "ipython3",
   "version": "3.10.10"
  },
  "papermill": {
   "default_parameters": {},
   "duration": 12.628001,
   "end_time": "2023-05-08T10:02:10.387507",
   "environment_variables": {},
   "exception": null,
   "input_path": "__notebook__.ipynb",
   "output_path": "__notebook__.ipynb",
   "parameters": {},
   "start_time": "2023-05-08T10:01:57.759506",
   "version": "2.4.0"
  }
 },
 "nbformat": 4,
 "nbformat_minor": 5
}
